{
 "cells": [
  {
   "cell_type": "markdown",
   "metadata": {},
   "source": [
    "<center>\n",
    "    <img src=\"https://s3-api.us-geo.objectstorage.softlayer.net/cf-courses-data/CognitiveClass/Logos/organization_logo/organization_logo.png\" width=\"300\" alt=\"cognitiveclass.ai logo\"  />\n",
    "</center>\n"
   ]
  },
  {
   "cell_type": "markdown",
   "metadata": {},
   "source": [
    "#### Add your code below following the instructions given in the course\n"
   ]
  },
  {
   "cell_type": "markdown",
   "metadata": {},
   "source": [
    "# My Jupyter Notebook on IBM Watson Studio\n",
    "**Mohammad Khoshkam**\n",
    "***\n",
    "Engineer\n",
    "***\n",
    "*I'm interested in Data Science because i believe it's a very Sexy Job and its the Future*\n",
    "***\n",
    "### below line contain a simple code for as peer-graded assignment\n"
   ]
  },
  {
   "cell_type": "code",
   "execution_count": null,
   "metadata": {},
   "outputs": [],
   "source": [
    "Two=2\n",
    "three=3\n",
    "print(Two*three)"
   ]
  },
  {
   "cell_type": "markdown",
   "metadata": {},
   "source": [
    "## Horizental Rule\n",
    "\n",
    "My Name is Mohammad\n",
    "*******************\n",
    "\n",
    "\n",
    "I'm like Data Science\n",
    "-------\n",
    "\n",
    "\n",
    "\n",
    "## Numbred List\n",
    "\n",
    " 1. Jupyter\n",
    " ..1. Jupyter Lab\n",
    " ..2. Jupyter Notebook\n",
    " 2. R Studio\n",
    " 3. Data Science\n",
    " \n",
    " ## Images\n",
    " Inline-style: \n",
    "![alt text](https://github.com/adam-p/markdown-here/raw/master/src/common/images/icon48.png \"Logo Title Text 1\")"
   ]
  }
 ],
 "metadata": {
  "kernelspec": {
   "display_name": "Python",
   "language": "python",
   "name": "conda-env-python-py"
  },
  "language_info": {
   "codemirror_mode": {
    "name": "ipython",
    "version": 3
   },
   "file_extension": ".py",
   "mimetype": "text/x-python",
   "name": "python",
   "nbconvert_exporter": "python",
   "pygments_lexer": "ipython3",
   "version": "3.7.12"
  }
 },
 "nbformat": 4,
 "nbformat_minor": 4
}
